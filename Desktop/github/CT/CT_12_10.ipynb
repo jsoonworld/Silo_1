{
  "nbformat": 4,
  "nbformat_minor": 0,
  "metadata": {
    "colab": {
      "provenance": []
    },
    "kernelspec": {
      "name": "python3",
      "display_name": "Python 3"
    },
    "language_info": {
      "name": "python"
    }
  },
  "cells": [
    {
      "cell_type": "code",
      "execution_count": 2,
      "metadata": {
        "colab": {
          "base_uri": "https://localhost:8080/",
          "height": 36
        },
        "id": "_IX56I56ST65",
        "outputId": "0acf422b-6994-4a5d-932a-e60909ff0cc1"
      },
      "outputs": [
        {
          "output_type": "execute_result",
          "data": {
            "text/plain": [
              "'attack'"
            ],
            "application/vnd.google.colaboratory.intrinsic+json": {
              "type": "string"
            }
          },
          "metadata": {},
          "execution_count": 2
        }
      ],
      "source": [
        "def solution(cipher, code):\n",
        "    answer=''\n",
        "    for i in range(code-1, len(cipher), code):\n",
        "        answer += cipher[i]\n",
        "    return answer\n",
        "\n",
        "cipher = \"dfjardstddetckdaccccdegk\"\n",
        "solution(cipher, 4)"
      ]
    }
  ]
}