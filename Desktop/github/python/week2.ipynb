{
  "nbformat": 4,
  "nbformat_minor": 0,
  "metadata": {
    "colab": {
      "provenance": []
    },
    "kernelspec": {
      "name": "python3",
      "display_name": "Python 3"
    },
    "language_info": {
      "name": "python"
    }
  },
  "cells": [
    {
      "cell_type": "code",
      "execution_count": null,
      "metadata": {
        "id": "pZ2il9MfO0rC"
      },
      "outputs": [],
      "source": []
    },
    {
      "cell_type": "markdown",
      "source": [
        "#기본 자료형\n",
        "\n",
        "#type(자료) #함수\n",
        "\n",
        "## 문자열\n",
        "\n",
        "##숫자\n",
        "\n",
        "##정수\n",
        "\n",
        "###실수 = 부동소수점\n",
        "\n",
        "## 불\n",
        " \n",
        "\n",
        "#복합 자료형"
      ],
      "metadata": {
        "id": "TA628neuPGtg"
      }
    },
    {
      "cell_type": "markdown",
      "source": [
        "#문자열 만들기\n",
        "\n",
        "\"안녕하세요\"\n",
        "'안녕하세요'\n",
        "\n",
        "# 문자열 안의 문자열\n",
        "\n",
        "## (1) 다른 따음표 사용하기\n",
        "\n",
        "## (2) 이스케이프 문자 사용하기\n",
        "# \\\"\n",
        "\n",
        "\"\\\"안녕하세요\\\"라고 말했습니다\"\n",
        "\n",
        "### \\n 줄바꿈\n",
        "\n",
        "## \\t 탭문자\n",
        "\n",
        "## \\\\역슬레시 자체 \n",
        "\n",
        "##여러줄 문자열 \n",
        "\"\"\" \"\"\""
      ],
      "metadata": {
        "id": "tz6YAdtlPH3a"
      }
    }
  ]
}