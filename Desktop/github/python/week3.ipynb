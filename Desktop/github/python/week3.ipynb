{
  "nbformat": 4,
  "nbformat_minor": 0,
  "metadata": {
    "colab": {
      "provenance": []
    },
    "kernelspec": {
      "name": "python3",
      "display_name": "Python 3"
    },
    "language_info": {
      "name": "python"
    }
  },
  "cells": [
    {
      "cell_type": "markdown",
      "source": [
        "##문자열 연산자\n",
        "\n",
        "\n",
        "\n",
        "\n"
      ],
      "metadata": {
        "id": "4yocOBbOmAmg"
      }
    },
    {
      "cell_type": "code",
      "execution_count": 2,
      "metadata": {
        "colab": {
          "base_uri": "https://localhost:8080/"
        },
        "id": "uBoVDx6tloHF",
        "outputId": "4862fbef-fea1-4655-9b7a-ad4e80ffd377"
      },
      "outputs": [
        {
          "output_type": "stream",
          "name": "stdout",
          "text": [
            "abcabc\n",
            "abcabcabc\n"
          ]
        }
      ],
      "source": [
        "#문자열 연결 연산자\n",
        "print(\"abc\" + \"abc\")\n",
        "\n",
        "#문자열 반복 연산자\n",
        "\n",
        "print(\"abc\" * 3)\n",
        "\n",
        "#문자 선택 연산자 \n",
        "##문자열에서 특정한 위치의 문자를 선택해 추출\n",
        "##특정한 위치는 \"0번째부터 센다\"\n",
        "\n",
        "#문자열[]\n",
        "#문자열[:]\n",
        "#문자열[: :step]\n",
        "\n",
        "#용어 정리\n",
        "\n",
        "#index : 위치를 나타내는 숫자\n",
        "\n",
        "#인덱싱\n",
        "#문자열[인덱스]\n",
        "\n",
        "#슬라이싱\n",
        "#문자열[인덱스:인덱스]\n",
        "#문자열[인덱스:인덱스:스텝]\n",
        "\n",
        "#문자열 뒤집기\n",
        "#\"0123456\"[::-1]\n",
        "\n",
        "\n"
      ]
    },
    {
      "cell_type": "markdown",
      "source": [
        "#문자열의 길이\n",
        "##length\n",
        "##len(\"안녕하세요\")\n",
        "\n",
        "#숫자\n",
        "\n",
        "##정수\n",
        "52\n",
        "\n",
        "##부동소수점\n",
        "52.0\n",
        "\n",
        "#숫자 연산자\n",
        "\n",
        "덧셈: +\n",
        "뺄셈: - \n",
        "곱셈: *\n",
        "나눗셈: /\n",
        "정수 나눗셈: //\n",
        "나머지: %\n",
        "제곱: **"
      ],
      "metadata": {
        "id": "1uzNV3kqoY6u"
      }
    },
    {
      "cell_type": "markdown",
      "source": [
        "#제곱근\n",
        "\n",
        "4 ** (1/2)\n",
        "\n",
        "8 ** (1/3)\n"
      ],
      "metadata": {
        "id": "rxtync1htMrx"
      }
    },
    {
      "cell_type": "code",
      "source": [],
      "metadata": {
        "id": "PNygl1_DmfVD"
      },
      "execution_count": null,
      "outputs": []
    }
  ]
}