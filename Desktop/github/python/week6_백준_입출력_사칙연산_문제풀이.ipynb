{
  "nbformat": 4,
  "nbformat_minor": 0,
  "metadata": {
    "colab": {
      "provenance": []
    },
    "kernelspec": {
      "name": "python3",
      "display_name": "Python 3"
    },
    "language_info": {
      "name": "python"
    }
  },
  "cells": [
    {
      "cell_type": "markdown",
      "source": [
        "#백준 온라인 저지"
      ],
      "metadata": {
        "id": "6j5wyXsc9P7m"
      }
    },
    {
      "cell_type": "markdown",
      "source": [
        "#문제1 \n",
        "#Hello World"
      ],
      "metadata": {
        "id": "LQk1JzOx_zk_"
      }
    },
    {
      "cell_type": "code",
      "execution_count": 1,
      "metadata": {
        "colab": {
          "base_uri": "https://localhost:8080/"
        },
        "id": "VTcTR_VX7_cp",
        "outputId": "74eae1ca-a5e8-474f-d295-5a906170acb8"
      },
      "outputs": [
        {
          "output_type": "stream",
          "name": "stdout",
          "text": [
            "Hello World!\n"
          ]
        }
      ],
      "source": [
        "print(\"Hello World!\")"
      ]
    },
    {
      "cell_type": "markdown",
      "source": [
        "#문제2 \n",
        "#A + B"
      ],
      "metadata": {
        "id": "U3eZ0n1N_5lF"
      }
    },
    {
      "cell_type": "code",
      "source": [
        "raw_input = input()\n",
        "raw_input = raw_input.split()\n",
        "\n",
        "a = int(raw_input[0])\n",
        "b = int(raw_input[1])\n",
        "\n",
        "print(a + b)"
      ],
      "metadata": {
        "colab": {
          "base_uri": "https://localhost:8080/"
        },
        "id": "xyY9zkV7_78o",
        "outputId": "1c72d367-3028-4bf8-c1de-d2406a8a72d7"
      },
      "execution_count": 5,
      "outputs": [
        {
          "output_type": "stream",
          "name": "stdout",
          "text": [
            "1 2\n",
            "3\n"
          ]
        }
      ]
    },
    {
      "cell_type": "markdown",
      "source": [
        "#문제3 \n",
        "#A - B"
      ],
      "metadata": {
        "id": "96omPboBAyru"
      }
    },
    {
      "cell_type": "code",
      "source": [
        "raw_input = input()\n",
        "raw_input = raw_input.split()\n",
        "\n",
        "a = int(raw_input[0])\n",
        "b = int(raw_input[1])\n",
        "\n",
        "print(a - b)"
      ],
      "metadata": {
        "colab": {
          "base_uri": "https://localhost:8080/"
        },
        "id": "f9TzusNZAxm2",
        "outputId": "f2183c23-5898-43e3-9316-8c79a9f46214"
      },
      "execution_count": 6,
      "outputs": [
        {
          "output_type": "stream",
          "name": "stdout",
          "text": [
            "3 2\n",
            "1\n"
          ]
        }
      ]
    },
    {
      "cell_type": "markdown",
      "source": [
        "#문제4\n",
        "#A * B"
      ],
      "metadata": {
        "id": "iVVRh193BBfV"
      }
    },
    {
      "cell_type": "code",
      "source": [
        "raw_input = input()\n",
        "raw_input = raw_input.split()\n",
        "\n",
        "a = int(raw_input[0])\n",
        "b = int(raw_input[1])\n",
        "\n",
        "print(a * b)"
      ],
      "metadata": {
        "colab": {
          "base_uri": "https://localhost:8080/"
        },
        "id": "RWtBvtpMA4Bu",
        "outputId": "0863e2a0-8acc-48d4-cf49-6a5c6ddd4083"
      },
      "execution_count": 7,
      "outputs": [
        {
          "output_type": "stream",
          "name": "stdout",
          "text": [
            "3 4\n",
            "12\n"
          ]
        }
      ]
    },
    {
      "cell_type": "markdown",
      "source": [
        "#문제5\n",
        "#A/B\n"
      ],
      "metadata": {
        "id": "-KGya9BTBb8G"
      }
    },
    {
      "cell_type": "code",
      "source": [
        "raw_input = input()\n",
        "raw_input = raw_input.split()\n",
        "\n",
        "a = int(raw_input[0])\n",
        "b = int(raw_input[1])\n",
        "\n",
        "print(a / b)"
      ],
      "metadata": {
        "colab": {
          "base_uri": "https://localhost:8080/"
        },
        "id": "5XY4zO0kBOKv",
        "outputId": "b23250d9-d914-41e2-c3dc-0516355fa0f5"
      },
      "execution_count": 8,
      "outputs": [
        {
          "output_type": "stream",
          "name": "stdout",
          "text": [
            "1 3\n",
            "0.3333333333333333\n"
          ]
        }
      ]
    },
    {
      "cell_type": "markdown",
      "source": [
        "#문제6\n",
        "# 사칙연산"
      ],
      "metadata": {
        "id": "kjObux3DB4vt"
      }
    },
    {
      "cell_type": "code",
      "source": [
        "raw_input = input()\n",
        "raw_input = raw_input.split()\n",
        "\n",
        "a = int(raw_input[0])\n",
        "b = int(raw_input[1])\n",
        "\n",
        "print(a + b)\n",
        "print(a - b)\n",
        "print(a * b)\n",
        "print(a // b)\n",
        "print(a % b)"
      ],
      "metadata": {
        "colab": {
          "base_uri": "https://localhost:8080/"
        },
        "id": "TgXCiuaNBniu",
        "outputId": "72b10220-4f37-4f9d-850c-6d72dfc1de76"
      },
      "execution_count": 10,
      "outputs": [
        {
          "output_type": "stream",
          "name": "stdout",
          "text": [
            "7 3\n",
            "10\n",
            "4\n",
            "21\n",
            "2\n",
            "1\n"
          ]
        }
      ]
    },
    {
      "cell_type": "markdown",
      "source": [
        "#문제7\n",
        "#??!"
      ],
      "metadata": {
        "id": "_fSnqyypC-N6"
      }
    },
    {
      "cell_type": "code",
      "source": [
        "#입력\n",
        "already_exist_id = input()\n",
        "#처리\n",
        "output = already_exist_id + \"??!\"\n",
        "#출력\n",
        "print(output)"
      ],
      "metadata": {
        "colab": {
          "base_uri": "https://localhost:8080/"
        },
        "id": "x5kpxv_BCRiF",
        "outputId": "6c4eea66-fb24-4243-c26c-5c0c1eb4045b"
      },
      "execution_count": 11,
      "outputs": [
        {
          "output_type": "stream",
          "name": "stdout",
          "text": [
            "jjoonas\n",
            "jjoonas??!\n"
          ]
        }
      ]
    },
    {
      "cell_type": "markdown",
      "source": [
        "#문제8\n",
        "#1998년생인 내가 태국에서는 2541년생?!"
      ],
      "metadata": {
        "id": "go1IaW2wD2kc"
      }
    },
    {
      "cell_type": "code",
      "source": [
        "#입력\n",
        "Bangkok_year = input()\n",
        "#처리\n",
        "korea_year = int(Bangkok_year) - 543\n",
        "#출력\n",
        "print(korea_year)"
      ],
      "metadata": {
        "colab": {
          "base_uri": "https://localhost:8080/"
        },
        "id": "-nHfzNO4Dpmu",
        "outputId": "3d438ae7-1a6d-487e-c85a-09b913b9d674"
      },
      "execution_count": 12,
      "outputs": [
        {
          "output_type": "stream",
          "name": "stdout",
          "text": [
            "2541\n",
            "1998\n"
          ]
        }
      ]
    },
    {
      "cell_type": "markdown",
      "source": [
        "#문제9\n",
        "#킹, 퀸, 룩, 비숍, 나이트, 폰 "
      ],
      "metadata": {
        "id": "Y1FKMGlgE6ZU"
      }
    },
    {
      "cell_type": "code",
      "source": [
        "#조건\n",
        "#킹 1개, 퀸 1개, 룩 2개, 비숍 2개, 나이트 2개, 폰 8\n",
        "\n",
        "#입력\n",
        "pieces = input().split()\n",
        "\n",
        "#처리\n",
        "frame = [\"1\", \"1\",\"2\", \"2\", \"2\", \"8\"]\n",
        "for i in range(len(pieces)):\n",
        "    pieces[i] = ((int(frame[i]) - int(pieces[i])))\n",
        "result = ''\n",
        "for s in pieces:\n",
        "  result += str(s) + \" \"\n",
        "  \n",
        "#출력\n",
        "print(result)"
      ],
      "metadata": {
        "colab": {
          "base_uri": "https://localhost:8080/"
        },
        "id": "s0rNpAXXE0tB",
        "outputId": "91356340-f4ae-4abf-dbca-91667d7864a3"
      },
      "execution_count": 21,
      "outputs": [
        {
          "output_type": "stream",
          "name": "stdout",
          "text": [
            "1 0  2 2 2 1\n",
            "0 1 0 0 0 7 \n"
          ]
        }
      ]
    },
    {
      "cell_type": "markdown",
      "source": [
        "#문제10\n",
        "#나머지"
      ],
      "metadata": {
        "id": "JDP8t9VwLgYb"
      }
    },
    {
      "cell_type": "code",
      "source": [
        "#입력\n",
        "raw_input = input().split()\n",
        "\n",
        "#처리\n",
        "A = int(raw_input[0])\n",
        "B = int(raw_input[1])\n",
        "C = int(raw_input[2])\n",
        "\n",
        "#출력\n",
        "print((A+B)%C)\n",
        "print(((A%C) + (B%C))%C)\n",
        "print((A*B)%C)\n",
        "print(((A%C) * (B%C))%C)"
      ],
      "metadata": {
        "colab": {
          "base_uri": "https://localhost:8080/"
        },
        "id": "gNdIx2-ELp1E",
        "outputId": "1d37102f-f0fb-4edc-ae3c-00082cc8c29d"
      },
      "execution_count": 23,
      "outputs": [
        {
          "output_type": "stream",
          "name": "stdout",
          "text": [
            "5 8 4\n",
            "1\n",
            "1\n",
            "0\n",
            "0\n"
          ]
        }
      ]
    },
    {
      "cell_type": "markdown",
      "source": [
        "#문제11\n",
        "#곱셈"
      ],
      "metadata": {
        "id": "uLsYCPrFM1Bl"
      }
    },
    {
      "cell_type": "code",
      "source": [
        "#입력\n",
        "a = input()\n",
        "b = input()\n",
        "\n",
        "#처리\n",
        "\n",
        "#출력\n",
        "print(int(a) * int(b[2]))\n",
        "print(int(a) * int(b[1]))\n",
        "print(int(a) * int(b[0]))\n",
        "print(int(a) * int(b))"
      ],
      "metadata": {
        "colab": {
          "base_uri": "https://localhost:8080/"
        },
        "id": "i4uWCsJLM_IS",
        "outputId": "232c20b8-a0e9-4ac8-d2cf-f4a487778025"
      },
      "execution_count": 25,
      "outputs": [
        {
          "output_type": "stream",
          "name": "stdout",
          "text": [
            "472\n",
            "385\n",
            "2360\n",
            "3776\n",
            "1416\n",
            "181720\n"
          ]
        }
      ]
    },
    {
      "cell_type": "markdown",
      "source": [
        "#문제12\n",
        "#고양이"
      ],
      "metadata": {
        "id": "VHoK2MP8OOJR"
      }
    },
    {
      "cell_type": "code",
      "source": [
        "print(\"\\\\    /\\\\\")\n",
        "print(\" )  ( ')\")\n",
        "print(\"(  /  )\")\n",
        "print(\" \\\\(__)|\")"
      ],
      "metadata": {
        "colab": {
          "base_uri": "https://localhost:8080/"
        },
        "id": "NBEa2eK5OPKv",
        "outputId": "caff2b7b-6efb-4adc-b05c-735f4e33e3b1"
      },
      "execution_count": 26,
      "outputs": [
        {
          "output_type": "stream",
          "name": "stdout",
          "text": [
            "\\    /\\\n",
            " )  ( ')\n",
            "(  /  )\n",
            " \\(__)|\n"
          ]
        }
      ]
    },
    {
      "cell_type": "markdown",
      "source": [
        "#문제13\n",
        "#개\n"
      ],
      "metadata": {
        "id": "cGdpwZOmOz3E"
      }
    },
    {
      "cell_type": "code",
      "source": [
        "print(\"|\\\\_/|\")\n",
        "print(\"|q p|   /}\")\n",
        "print(\"( 0 )\\\"\\\"\\\"\\\\\")\n",
        "print(\"|\\\"^\\\"`    |\")\n",
        "print(\"||_/=\\\\\\\\__|\")"
      ],
      "metadata": {
        "colab": {
          "base_uri": "https://localhost:8080/"
        },
        "id": "XFKXQkgXNrq3",
        "outputId": "eb331138-e349-4cd3-fac4-fbef31d1987e"
      },
      "execution_count": 27,
      "outputs": [
        {
          "output_type": "stream",
          "name": "stdout",
          "text": [
            "|\\_/|\n",
            "|q p|   /}\n",
            "( 0 )\"\"\"\\\n",
            "|\"^\"`    |\n",
            "||_/=\\\\__|\n"
          ]
        }
      ]
    },
    {
      "cell_type": "markdown",
      "source": [
        "#문제14\n",
        "#새싹"
      ],
      "metadata": {
        "id": "Iiy581EYPCEn"
      }
    },
    {
      "cell_type": "code",
      "source": [
        "print('         ,r\\'\\\"7')\n",
        "print('r`-_   ,\\'  ,/')\n",
        "print(' \\\\. \\\". L_r\\'')\n",
        "print('   `~\\\\/')\n",
        "print('      |')\n",
        "print('      |')"
      ],
      "metadata": {
        "colab": {
          "base_uri": "https://localhost:8080/"
        },
        "id": "T6ZQD1LxPDtW",
        "outputId": "fcb5e7fc-e6e6-4728-8949-9e59d6b44c9e"
      },
      "execution_count": 28,
      "outputs": [
        {
          "output_type": "stream",
          "name": "stdout",
          "text": [
            "         ,r'\"7\n",
            "r`-_   ,'  ,/\n",
            " \\. \". L_r'\n",
            "   `~\\/\n",
            "      |\n",
            "      |\n"
          ]
        }
      ]
    }
  ]
}