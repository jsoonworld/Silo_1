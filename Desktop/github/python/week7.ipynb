{
  "nbformat": 4,
  "nbformat_minor": 0,
  "metadata": {
    "colab": {
      "provenance": []
    },
    "kernelspec": {
      "name": "python3",
      "display_name": "Python 3"
    },
    "language_info": {
      "name": "python"
    }
  },
  "cells": [
    {
      "cell_type": "markdown",
      "source": [
        "#data type\n",
        "#Bool"
      ],
      "metadata": {
        "id": "jzWgXkaWFs0K"
      }
    },
    {
      "cell_type": "code",
      "execution_count": 11,
      "metadata": {
        "colab": {
          "base_uri": "https://localhost:8080/"
        },
        "id": "i2CyPCQhFbaL",
        "outputId": "a1b3b7c6-626f-46d0-811b-8b401f722faf"
      },
      "outputs": [
        {
          "output_type": "stream",
          "name": "stdout",
          "text": [
            "2022년 12월 25일 21시 8분 6초\n"
          ]
        }
      ],
      "source": [
        "#날짜/시간 구하는 방법\n",
        "\n",
        "import datetime\n",
        "import pytz\n",
        "\n",
        "seoul = pytz.timezone(\"Asia/Seoul\")\n",
        "now = datetime.datetime.now(seoul)\n",
        "\n",
        "\n",
        "print(\n",
        "    \"{}년 {}월 {}일 {}시 {}분 {}초\".format(\n",
        "now.year,\n",
        "now.month,\n",
        "now.day,\n",
        "now.hour,\n",
        "now.minute,\n",
        "now.second\n",
        "))"
      ]
    },
    {
      "cell_type": "markdown",
      "source": [
        "#if 조건문"
      ],
      "metadata": {
        "id": "oDOO3pk0IfEA"
      }
    },
    {
      "cell_type": "code",
      "source": [
        "#입력\n",
        "raw_input = input(\"정수를 입력해주세요: \")\n",
        "raw_input = int(raw_input)\n",
        "#처리\n",
        "\n",
        "if raw_input > 0:\n",
        "  print(\"양수입니다.\")\n",
        "elif raw_input < 0:\n",
        "  print(\"음수입니다\")\n",
        "else:\n",
        "  print(\"0입니다.\")\n",
        "#출력"
      ],
      "metadata": {
        "colab": {
          "base_uri": "https://localhost:8080/"
        },
        "id": "y3kPR9R7GAlk",
        "outputId": "5d694c59-ef03-4f26-fa79-a021dd5ad40d"
      },
      "execution_count": 10,
      "outputs": [
        {
          "output_type": "stream",
          "name": "stdout",
          "text": [
            "정수를 입력해주세요: 2\n",
            "양수입니다.\n"
          ]
        }
      ]
    }
  ]
}