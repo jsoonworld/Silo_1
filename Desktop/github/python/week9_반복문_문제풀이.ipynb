{
  "nbformat": 4,
  "nbformat_minor": 0,
  "metadata": {
    "colab": {
      "provenance": []
    },
    "kernelspec": {
      "name": "python3",
      "display_name": "Python 3"
    },
    "language_info": {
      "name": "python"
    }
  },
  "cells": [
    {
      "cell_type": "markdown",
      "source": [
        "#문제 1\n",
        "#구구단 (백준 2739)\n",
        "\n"
      ],
      "metadata": {
        "id": "wTDkn5hfuSjA"
      }
    },
    {
      "cell_type": "code",
      "execution_count": 2,
      "metadata": {
        "colab": {
          "base_uri": "https://localhost:8080/"
        },
        "id": "O7UodM-quNON",
        "outputId": "a6648b23-1cb4-4376-dca9-b7b34a023b91"
      },
      "outputs": [
        {
          "output_type": "stream",
          "name": "stdout",
          "text": [
            "2\n",
            "2 * 1 = 2\n",
            "2 * 2 = 4\n",
            "2 * 3 = 6\n",
            "2 * 4 = 8\n",
            "2 * 5 = 10\n",
            "2 * 6 = 12\n",
            "2 * 7 = 14\n",
            "2 * 8 = 16\n",
            "2 * 9 = 18\n"
          ]
        }
      ],
      "source": [
        "N = int(input())\n",
        "\n",
        "for i in range(1,10):\n",
        "  print(f'{N} * {i} = {N*i}')"
      ]
    },
    {
      "cell_type": "markdown",
      "source": [
        "#문제 2\n",
        "#A +B -3 (백준10950)\n"
      ],
      "metadata": {
        "id": "22UhTRRlvQOf"
      }
    },
    {
      "cell_type": "code",
      "source": [
        "#입력\n",
        "T = int(input())\n",
        "result = []\n",
        "for i in range(T):\n",
        "  result.append(input().split())\n",
        "\n",
        "for i in range(T):\n",
        "  print( int(result[i][0]) + int(result[i][1]) )\n",
        "# #처리\n",
        "#출력\n"
      ],
      "metadata": {
        "colab": {
          "base_uri": "https://localhost:8080/"
        },
        "id": "QPYkP3FCvW3y",
        "outputId": "d9858143-477f-4382-c5a4-ac9133166185"
      },
      "execution_count": 15,
      "outputs": [
        {
          "output_type": "stream",
          "name": "stdout",
          "text": [
            "5\n",
            "1 1\n",
            "1 2\n",
            "5 6\n",
            "9 8\n",
            "6 7\n",
            "2\n",
            "3\n",
            "11\n",
            "17\n",
            "13\n"
          ]
        }
      ]
    },
    {
      "cell_type": "markdown",
      "source": [
        "#문제 3\n",
        "#합 (백준 8393)"
      ],
      "metadata": {
        "id": "vUi0fj2D1x-n"
      }
    },
    {
      "cell_type": "code",
      "source": [
        "#그냥 풀이\n",
        "n = int(input())\n",
        "print(n*(n+1)//2)\n",
        "\n",
        "\n",
        "#문제의도\n",
        "\n",
        "n = int(input())\n",
        "sum = 0\n",
        "for i in range(1, n+1):\n",
        "  sum += i\n",
        "print(sum)\n"
      ],
      "metadata": {
        "colab": {
          "base_uri": "https://localhost:8080/"
        },
        "id": "dJmIJ9FFysOZ",
        "outputId": "3547b392-f534-4f40-9aed-813516f51769"
      },
      "execution_count": 18,
      "outputs": [
        {
          "output_type": "stream",
          "name": "stdout",
          "text": [
            "3\n",
            "6\n"
          ]
        }
      ]
    },
    {
      "cell_type": "markdown",
      "source": [
        "#문제 4\n",
        "#영수증 (백준 25304 )\n"
      ],
      "metadata": {
        "id": "CY4vUG7x3UCy"
      }
    },
    {
      "cell_type": "code",
      "source": [
        "total = int(input())\n",
        "sort = int(input())\n",
        "\n",
        "\n",
        "sum = 0\n",
        "temp = []\n",
        "for i in range(sort):\n",
        "  temp = input().split()\n",
        "  sum += int(temp[0]) * int(temp[1])\n",
        "\n",
        "if total == sum:\n",
        "  print(\"Yes\")\n",
        "else:\n",
        "  print(\"No\")\n",
        "\n",
        "  \n",
        "  \n"
      ],
      "metadata": {
        "colab": {
          "base_uri": "https://localhost:8080/"
        },
        "id": "1lFPXosK22I7",
        "outputId": "942d09f5-2b77-420c-f1ba-31e8f75bad8b"
      },
      "execution_count": 21,
      "outputs": [
        {
          "output_type": "stream",
          "name": "stdout",
          "text": [
            "260000\n",
            "4\n",
            "20000 5\n",
            "30000 2\n",
            "10000 6\n",
            "5000 8\n",
            "Yes\n"
          ]
        }
      ]
    },
    {
      "cell_type": "markdown",
      "source": [
        "#문제 5\n",
        "# 빠른 A + B (백준 15552 )"
      ],
      "metadata": {
        "id": "fvV-bJJa5xcT"
      }
    },
    {
      "cell_type": "code",
      "source": [
        "import sys  \n",
        "\n",
        "t = int(sys.stdin.readline())\n",
        "\n",
        "for _ in range(t):\n",
        "    a,b = map(int, sys.stdin.readline().split())\n",
        "    print(a+b)"
      ],
      "metadata": {
        "colab": {
          "base_uri": "https://localhost:8080/",
          "height": 235
        },
        "id": "3lMUw_tC5C4b",
        "outputId": "0cc52e12-611d-42a0-d9e9-83234689ad20"
      },
      "execution_count": 23,
      "outputs": [
        {
          "output_type": "error",
          "ename": "ValueError",
          "evalue": "ignored",
          "traceback": [
            "\u001b[0;31m---------------------------------------------------------------------------\u001b[0m",
            "\u001b[0;31mValueError\u001b[0m                                Traceback (most recent call last)",
            "\u001b[0;32m<ipython-input-23-cf02fb1e53c9>\u001b[0m in \u001b[0;36m<module>\u001b[0;34m\u001b[0m\n\u001b[1;32m      1\u001b[0m \u001b[0;32mimport\u001b[0m \u001b[0msys\u001b[0m\u001b[0;34m\u001b[0m\u001b[0;34m\u001b[0m\u001b[0m\n\u001b[1;32m      2\u001b[0m \u001b[0;34m\u001b[0m\u001b[0m\n\u001b[0;32m----> 3\u001b[0;31m \u001b[0mt\u001b[0m \u001b[0;34m=\u001b[0m \u001b[0mint\u001b[0m\u001b[0;34m(\u001b[0m\u001b[0msys\u001b[0m\u001b[0;34m.\u001b[0m\u001b[0mstdin\u001b[0m\u001b[0;34m.\u001b[0m\u001b[0mreadline\u001b[0m\u001b[0;34m(\u001b[0m\u001b[0;34m)\u001b[0m\u001b[0;34m)\u001b[0m\u001b[0;34m\u001b[0m\u001b[0;34m\u001b[0m\u001b[0m\n\u001b[0m\u001b[1;32m      4\u001b[0m \u001b[0;34m\u001b[0m\u001b[0m\n\u001b[1;32m      5\u001b[0m \u001b[0;32mfor\u001b[0m \u001b[0m_\u001b[0m \u001b[0;32min\u001b[0m \u001b[0mrange\u001b[0m\u001b[0;34m(\u001b[0m\u001b[0mt\u001b[0m\u001b[0;34m)\u001b[0m\u001b[0;34m:\u001b[0m\u001b[0;34m\u001b[0m\u001b[0;34m\u001b[0m\u001b[0m\n",
            "\u001b[0;31mValueError\u001b[0m: invalid literal for int() with base 10: ''"
          ]
        }
      ]
    },
    {
      "cell_type": "markdown",
      "source": [
        "#문제 6\n",
        "# A+B -7 (백준 11021)\n"
      ],
      "metadata": {
        "id": "WHr71AjF658Q"
      }
    },
    {
      "cell_type": "code",
      "source": [
        "T = int(input())\n",
        "for i in range(T):\n",
        "  a =input().split()\n",
        "  a_0 = int(a[0])\n",
        "  a_1 = int(a[1])\n",
        "  print(f'Case #{i+1}: {a_0 + a_1}')"
      ],
      "metadata": {
        "colab": {
          "base_uri": "https://localhost:8080/"
        },
        "id": "8B_3uRII6-w9",
        "outputId": "4bbb602f-fd47-4128-f51c-86089f83483b"
      },
      "execution_count": 25,
      "outputs": [
        {
          "output_type": "stream",
          "name": "stdout",
          "text": [
            "5\n",
            "1 1\n",
            "Case #1: 2\n",
            "2 3\n",
            "Case #2: 5\n",
            "3 4\n",
            "Case #3: 7\n",
            "9 8\n",
            "Case #4: 17\n",
            "5 2\n",
            "Case #5: 7\n"
          ]
        }
      ]
    },
    {
      "cell_type": "markdown",
      "source": [
        "#문제 7\n",
        "# A + B - 8 (백준 11022)"
      ],
      "metadata": {
        "id": "zlDIU6Nr72Ik"
      }
    },
    {
      "cell_type": "code",
      "source": [
        "T = int(input())\n",
        "for i in range(T):\n",
        "  a =input().split()\n",
        "  a_0 = int(a[0])\n",
        "  a_1 = int(a[1])\n",
        "  print(f'Case #{i+1}: {a_0} + {a_1} = {a_0 + a_1}')"
      ],
      "metadata": {
        "colab": {
          "base_uri": "https://localhost:8080/"
        },
        "id": "-H4HDGlB7ddJ",
        "outputId": "de56070d-052c-484c-bff4-793248c9692f"
      },
      "execution_count": 26,
      "outputs": [
        {
          "output_type": "stream",
          "name": "stdout",
          "text": [
            "5\n",
            "1 1\n",
            "Case #1: 1 + 1 = 2\n",
            "2 3\n",
            "Case #2: 2 + 3 = 5\n",
            "3 4\n",
            "Case #3: 3 + 4 = 7\n",
            "9 8\n",
            "Case #4: 9 + 8 = 17\n",
            "5 2\n",
            "Case #5: 5 + 2 = 7\n"
          ]
        }
      ]
    },
    {
      "cell_type": "markdown",
      "source": [
        "#문제 8\n",
        "#별 찍기 -1 (백준 2438)"
      ],
      "metadata": {
        "id": "IulSdWKl8UC3"
      }
    },
    {
      "cell_type": "code",
      "source": [
        "n = int(input())\n",
        "for i in range(1, n+1):\n",
        "  print(\"*\" * i)"
      ],
      "metadata": {
        "colab": {
          "base_uri": "https://localhost:8080/"
        },
        "id": "KgFftSfn8Xhm",
        "outputId": "67ba306d-789f-497c-e3ab-b72573d0d587"
      },
      "execution_count": 27,
      "outputs": [
        {
          "output_type": "stream",
          "name": "stdout",
          "text": [
            "5\n",
            "*\n",
            "**\n",
            "***\n",
            "****\n",
            "*****\n"
          ]
        }
      ]
    },
    {
      "cell_type": "markdown",
      "source": [
        "#문제 9\n",
        "#별 찍기 -2 (백준 2438)"
      ],
      "metadata": {
        "id": "w_C9YwO282Rf"
      }
    },
    {
      "cell_type": "code",
      "source": [
        "n = int(input())\n",
        "for i in range(1, n+1):\n",
        "  print(\" \"* (n-i) + \"*\" * i )"
      ],
      "metadata": {
        "colab": {
          "base_uri": "https://localhost:8080/"
        },
        "id": "IaCIahXn8xQq",
        "outputId": "7abfb33e-c9ad-49c7-d130-31fa0acfc723"
      },
      "execution_count": 29,
      "outputs": [
        {
          "output_type": "stream",
          "name": "stdout",
          "text": [
            "5\n",
            "    *\n",
            "   **\n",
            "  ***\n",
            " ****\n",
            "*****\n"
          ]
        }
      ]
    },
    {
      "cell_type": "markdown",
      "source": [
        "#문제 10 \n",
        "#A + B - 5 (백준 10952)"
      ],
      "metadata": {
        "id": "TrGchjg89rni"
      }
    },
    {
      "cell_type": "code",
      "source": [
        "while True:\n",
        "    a, b = map(int, input().split())\n",
        "    if a == 0 and b == 0:\n",
        "        break\n",
        "    print(a+b)"
      ],
      "metadata": {
        "colab": {
          "base_uri": "https://localhost:8080/"
        },
        "id": "T0fxR9S09WHs",
        "outputId": "f2f74b56-2dac-4b29-f90f-f7d172ae4150"
      },
      "execution_count": 34,
      "outputs": [
        {
          "name": "stdout",
          "output_type": "stream",
          "text": [
            "0 0\n"
          ]
        }
      ]
    },
    {
      "cell_type": "code",
      "source": [],
      "metadata": {
        "id": "VCK_MQMb-elt"
      },
      "execution_count": null,
      "outputs": []
    }
  ]
}